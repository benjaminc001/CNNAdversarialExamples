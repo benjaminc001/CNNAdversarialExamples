{
  "cells": [
    {
      "cell_type": "markdown",
      "metadata": {
        "id": "IhdCHCtmQF9t"
      },
      "source": [
        "# Entrenamiento adversario\n",
        "## EL4106-1 Inteligencia computacional\n",
        "### **Integrantes:**\n",
        "### Benjamín Castro \n",
        "### Jordan Pérez \n",
        "###  **Ayudante:**\n",
        "### Andrés González\n",
        "### **Profesor:**\n",
        "### Pablo Estévez"
      ]
    },
    {
      "cell_type": "markdown",
      "metadata": {
        "id": "6dA3VKebQMaF"
      },
      "source": [
        "#### Imports de librerías"
      ]
    },
    {
      "cell_type": "code",
      "execution_count": 1,
      "metadata": {
        "id": "AOxAbV9zPaLV"
      },
      "outputs": [],
      "source": [
        "import torch\n",
        "import torch.nn as nn \n",
        "import torch.optim as optim\n",
        "import matplotlib.pyplot as plt\n",
        "import os\n",
        "import numpy as np\n",
        "import torchvision\n",
        "from torch.utils.data import DataLoader\n",
        "\n",
        "# Red neuronal pre entrenada\n",
        "from torchvision.models import resnet18, ResNet18_Weights\n",
        "import torch.backends.cudnn as cudnn"
      ]
    },
    {
      "cell_type": "markdown",
      "metadata": {
        "id": "5stl1ZMWoguC"
      },
      "source": [
        "### Dataset Tiny ImageNet"
      ]
    },
    {
      "cell_type": "code",
      "execution_count": null,
      "metadata": {
        "colab": {
          "base_uri": "https://localhost:8080/"
        },
        "id": "BzDqpxMNQXmi",
        "outputId": "73c81e31-1dcb-490f-db31-0ca74f73ba80"
      },
      "outputs": [
        {
          "name": "stdout",
          "output_type": "stream",
          "text": [
            "--2022-12-11 16:40:43--  http://cs231n.stanford.edu/tiny-imagenet-200.zip\n",
            "Resolving cs231n.stanford.edu (cs231n.stanford.edu)... 171.64.68.10\n",
            "Connecting to cs231n.stanford.edu (cs231n.stanford.edu)|171.64.68.10|:80... connected.\n",
            "HTTP request sent, awaiting response... 200 OK\n",
            "Length: 248100043 (237M) [application/zip]\n",
            "Saving to: ‘tiny-imagenet-200.zip’\n",
            "\n",
            "tiny-imagenet-200.z 100%[===================>] 236.61M  16.6MB/s    in 68s     \n",
            "\n",
            "2022-12-11 16:41:51 (3.48 MB/s) - ‘tiny-imagenet-200.zip’ saved [248100043/248100043]\n",
            "\n"
          ]
        }
      ],
      "source": [
        "# Descarga del dataset\n",
        "!wget http://cs231n.stanford.edu/tiny-imagenet-200.zip"
      ]
    },
    {
      "cell_type": "code",
      "execution_count": null,
      "metadata": {
        "id": "kqa2mUVIRxax"
      },
      "outputs": [],
      "source": [
        "!unzip tiny-imagenet-200.zip"
      ]
    },
    {
      "cell_type": "code",
      "execution_count": null,
      "metadata": {
        "id": "-4OI1sQeSDN9"
      },
      "outputs": [],
      "source": [
        "# Normalización [1]\n",
        "img_transform = torchvision.transforms.Compose([torchvision.transforms.ToTensor(),\n",
        "                                            torchvision.transforms.Normalize(mean = [0.485, 0.456, 0.406],\n",
        "                                                                              std = [0.229, 0.224, 0.225])]) \n",
        "\n",
        "train_path = './tiny-imagenet-200/train'\n",
        "test_path = './tiny-imagenet-200/test'\n",
        "val_path = './tiny-imagenet-200/val'\n",
        "\n",
        "# Creación de los dataset\n",
        "train_dataset = torchvision.datasets.ImageFolder(root = train_path, transform = img_transform)\n",
        "val_dataset = torchvision.datasets.ImageFolder(root = val_path, transform = img_transform)\n",
        "test_dataset = torchvision.datasets.ImageFolder(root = test_path, transform = img_transform)\n",
        "\n",
        "# Definición de las clases del dataset\n",
        "classes = train_dataset.classes"
      ]
    },
    {
      "cell_type": "markdown",
      "metadata": {
        "id": "Ix4dT54bopXP"
      },
      "source": [
        "### CIFAR-10"
      ]
    },
    {
      "cell_type": "code",
      "execution_count": 2,
      "metadata": {
        "colab": {
          "base_uri": "https://localhost:8080/",
          "height": 103,
          "referenced_widgets": [
            "f9ca5fcb4f7a460182fb773b031d9b49",
            "15f18d2d62014d37a3da999be393c591",
            "0acb7feb961a4951b18257c13365dca9",
            "5bf92b2797c44a8b874e93bbe54e8bef",
            "3eb7b295980d4ac79fe4245861dfa5e4",
            "3bc03c5e3b86424a84f76bd689d8740a",
            "a7078f15d8b44e6da4fd709de822c626",
            "e5a6d493b6d443d697880da087bf4a66",
            "55850e7d9f364d75af8c2ca73f77511a",
            "66d78051cf63492b8c76a452485b2028",
            "87dca0f2d713467080edc0a3a0d3889c"
          ]
        },
        "id": "tOoYhFZCobAu",
        "outputId": "01319806-68f3-4409-beca-50c5abb586b1"
      },
      "outputs": [
        {
          "output_type": "stream",
          "name": "stdout",
          "text": [
            "Downloading https://www.cs.toronto.edu/~kriz/cifar-10-python.tar.gz to ./cifar10/cifar-10-python.tar.gz\n"
          ]
        },
        {
          "output_type": "display_data",
          "data": {
            "text/plain": [
              "  0%|          | 0/170498071 [00:00<?, ?it/s]"
            ],
            "application/vnd.jupyter.widget-view+json": {
              "version_major": 2,
              "version_minor": 0,
              "model_id": "f9ca5fcb4f7a460182fb773b031d9b49"
            }
          },
          "metadata": {}
        },
        {
          "output_type": "stream",
          "name": "stdout",
          "text": [
            "Extracting ./cifar10/cifar-10-python.tar.gz to ./cifar10\n",
            "Files already downloaded and verified\n"
          ]
        }
      ],
      "source": [
        "cifar_transform = torchvision.transforms.Compose([\n",
        "    torchvision.transforms.ToTensor(),\n",
        "    torchvision.transforms.Normalize((0.4914, 0.4822, 0.4465), (0.247, 0.243, 0.261))\n",
        "])\n",
        "\n",
        "train_cifar10 = torchvision.datasets.CIFAR10(\n",
        "    root=\"./cifar10\",\n",
        "    train=True,\n",
        "    download=True,\n",
        "    transform=cifar_transform,\n",
        ")\n",
        "\n",
        "test_cifar10 = torchvision.datasets.CIFAR10(root='./cifar10', train=False,\n",
        "                                       download=True, transform=cifar_transform)\n",
        "\n",
        "classes = train_cifar10.classes"
      ]
    },
    {
      "cell_type": "code",
      "execution_count": 3,
      "metadata": {
        "id": "MjQptFoyYZi5"
      },
      "outputs": [],
      "source": [
        "# Dataloaders\n",
        "train_loader = DataLoader(train_cifar10, batch_size = 64, shuffle=True)\n",
        "#val_loader = DataLoader(val_dataset, batch_size = 64, shuffle=False)\n",
        "test_loader = DataLoader(test_cifar10, batch_size = 64, shuffle=False)"
      ]
    },
    {
      "cell_type": "code",
      "execution_count": 4,
      "metadata": {
        "id": "6j6zs-vGasD1"
      },
      "outputs": [],
      "source": [
        "# Dispositivo donde se guardan los datos\n",
        "device = torch.device(\"cuda:0\" if torch.cuda.is_available() else \"cpu\")"
      ]
    },
    {
      "cell_type": "code",
      "execution_count": 5,
      "metadata": {
        "id": "875cgQ-0bAdK"
      },
      "outputs": [],
      "source": [
        "# Ataque tipo PGD con momento\n",
        "def pgd_linf(model, X, y, epsilon=0.1, alpha=0.01, num_iter=20, randomize=False):\n",
        "    \"\"\" Se crea un ejemplo adversario PGD a partir de X\"\"\"\n",
        "    if randomize:\n",
        "        delta = torch.rand_like(X, requires_grad=True)\n",
        "        delta.data = delta.data * 2 * epsilon - epsilon\n",
        "    else:\n",
        "        delta = torch.zeros_like(X, requires_grad=True)\n",
        "        \n",
        "    for t in range(num_iter):\n",
        "        loss = nn.CrossEntropyLoss()(model(X + delta), y)\n",
        "        loss.backward()\n",
        "        delta.data = (delta + alpha*delta.grad.detach().sign()).clamp(-epsilon,epsilon)\n",
        "        delta.grad.zero_()\n",
        "    return delta.detach()"
      ]
    },
    {
      "cell_type": "code",
      "execution_count": 6,
      "metadata": {
        "id": "qEGHJXyzQMy6"
      },
      "outputs": [],
      "source": [
        "def fgsm(model, X, y, epsilon=0.1):\n",
        "    \"\"\" Construct FGSM adversarial examples on the examples X\"\"\"\n",
        "    delta = torch.zeros_like(X, requires_grad=True)\n",
        "    loss = nn.CrossEntropyLoss()(model(X + delta), y)\n",
        "    loss.backward()\n",
        "    return epsilon * delta.grad.detach().sign()"
      ]
    },
    {
      "cell_type": "code",
      "execution_count": 34,
      "metadata": {
        "id": "Vq4EQDxIbHBh"
      },
      "outputs": [],
      "source": [
        "# Cargar el modelo  \n",
        "model = resnet18(weights=ResNet18_Weights.IMAGENET1K_V1)\n",
        "model = model.to(device) # Guardar los pesos del modelo en el dispositivo\n",
        "model = torch.nn.DataParallel(model)\n",
        "cudnn.benchmark = True"
      ]
    },
    {
      "cell_type": "code",
      "execution_count": 8,
      "metadata": {
        "id": "Lw7YlFNzbgw0"
      },
      "outputs": [],
      "source": [
        "# Entrenamiento sin factor de corrección en pesos\n",
        "def epoch(loader, model, opt=None):\n",
        "    \"\"\"Standard training/evaluation epoch over the dataset\"\"\"\n",
        "    total_loss, total_err = 0.,0.\n",
        "    for X,y in loader:\n",
        "        X,y = X.to(device), y.to(device)\n",
        "        yp = model(X)\n",
        "        loss = nn.CrossEntropyLoss()(yp,y)\n",
        "        if opt:\n",
        "            opt.zero_grad()\n",
        "            loss.backward()\n",
        "            opt.step()\n",
        "        \n",
        "        total_err += (yp.max(dim=1)[1] != y).sum().item()\n",
        "        total_loss += loss.item() * X.shape[0]\n",
        "    return total_err / len(loader.dataset), total_loss / len(loader.dataset)"
      ]
    },
    {
      "cell_type": "code",
      "execution_count": 9,
      "metadata": {
        "id": "mILqwVOAbplH"
      },
      "outputs": [],
      "source": [
        "# Época con entrenamiento adversario (corrección de pesos)\n",
        "def epoch_adversarial(loader, model, attack, opt=None, **kwargs):\n",
        "    \"\"\"Adversarial training/evaluation epoch over the dataset\"\"\"\n",
        "    total_loss, total_err = 0.,0.\n",
        "    for X,y in loader:\n",
        "        X,y = X.to(device), y.to(device)\n",
        "        delta = attack(model, X, y, **kwargs)\n",
        "        yp = model(X+delta)\n",
        "        loss = nn.CrossEntropyLoss()(yp,y)\n",
        "        if opt:\n",
        "            opt.zero_grad()\n",
        "            loss.backward()\n",
        "            opt.step()\n",
        "        \n",
        "        total_err += (yp.max(dim=1)[1] != y).sum().item()\n",
        "        total_loss += loss.item() * X.shape[0]\n",
        "    return total_err / len(loader.dataset), total_loss / len(loader.dataset)"
      ]
    },
    {
      "cell_type": "markdown",
      "metadata": {
        "id": "5PoyGANK_tdq"
      },
      "source": [
        "### Entrenamiento adversario"
      ]
    },
    {
      "cell_type": "markdown",
      "metadata": {
        "id": "WQH00SLz7ON9"
      },
      "source": [
        "#### Entrenamiento con ataque PGD en test"
      ]
    },
    {
      "cell_type": "code",
      "execution_count": null,
      "metadata": {
        "colab": {
          "base_uri": "https://localhost:8080/"
        },
        "id": "nC2f5qVzbyeD",
        "outputId": "20e42844-e6b6-461a-d2a6-7088e55ecb35"
      },
      "outputs": [
        {
          "name": "stdout",
          "output_type": "stream",
          "text": [
            "0.600340\t0.620800\t0.917000\n",
            "0.359080\t0.408000\t0.945600\n",
            "0.284080\t0.323900\t0.948700\n",
            "0.221300\t0.395100\t0.946800\n",
            "0.178480\t0.412900\t0.949400\n",
            "0.116280\t0.197800\t0.937000\n",
            "0.083240\t0.194500\t0.929700\n",
            "0.071040\t0.197400\t0.920700\n",
            "0.060660\t0.201300\t0.910900\n",
            "0.051020\t0.195200\t0.908000\n"
          ]
        }
      ],
      "source": [
        "# Optimizador SGD\n",
        "opt = optim.SGD(model.parameters(), lr=1e-1)\n",
        "tr_err_pgd = []\n",
        "tr_loss_pgd = []\n",
        "#val_err_pgd = []\n",
        "test_err_pgd = []\n",
        "adv_err_pgd = []\n",
        "test_loss_pgd = []\n",
        "\n",
        "# Entrenamiento sin corrección adversaria\n",
        "# Ataque PGD\n",
        "for t in range(10):\n",
        "    train_err, train_loss = epoch(train_loader, model, opt)\n",
        " #   val_err , val_loss = epoch(val_loader,model)\n",
        "    test_err, test_loss = epoch(test_loader, model)\n",
        "    adv_err, adv_loss = epoch_adversarial(test_loader, model, pgd_linf)\n",
        "    if t == 4:\n",
        "        for param_group in opt.param_groups:\n",
        "            param_group[\"lr\"] = 1e-2\n",
        "    tr_err_pgd.append(train_err) # Guardar para graficar\n",
        "  #  val_err_pgd.append(val_err)\n",
        "    test_err_pgd.append(test_err)\n",
        "    adv_err_pgd.append(adv_err)\n",
        "    tr_loss_pgd.append(train_loss)\n",
        "    test_loss_pgd.append(test_loss)\n",
        "    print(*(\"{:.6f}\".format(i) for i in (train_err, test_err, adv_err)), sep=\"\\t\")\n",
        "torch.save(model.state_dict(), \"model_cnn_pgd.pt\")"
      ]
    },
    {
      "cell_type": "code",
      "execution_count": null,
      "metadata": {
        "colab": {
          "base_uri": "https://localhost:8080/",
          "height": 297
        },
        "id": "C-xQuzRWyidf",
        "outputId": "ade85b3f-a1ab-49bf-d845-7712db1e0ce8"
      },
      "outputs": [
        {
          "data": {
            "image/png": "[encoded data removed]",
            "text/plain": [
              "<Figure size 432x288 with 1 Axes>"
            ]
          },
          "metadata": {},
          "output_type": "display_data"
        }
      ],
      "source": [
        "iter = range(0,10)\n",
        "plt.xticks(iter)\n",
        "plt.plot(tr_err_pgd,label='Entrenamiento')\n",
        "#plt.plot(val_err_pgd,label='Validación')\n",
        "plt.plot(test_err_pgd,label='Test')\n",
        "plt.plot(adv_err_pgd,label='Adversario')\n",
        "plt.legend()\n",
        "plt.title('Error en entrenamiento sin corrección de pesos (ataque PGD)')\n",
        "plt.ylabel('Magnitud del error')\n",
        "plt.xlabel('Épocas')\n",
        "plt.show()"
      ]
    },
    {
      "cell_type": "code",
      "execution_count": null,
      "metadata": {
        "colab": {
          "base_uri": "https://localhost:8080/",
          "height": 297
        },
        "id": "lY11YnkN_CUB",
        "outputId": "61fb453a-04d4-4891-f4b7-3593039d759d"
      },
      "outputs": [
        {
          "data": {
            "image/png": "[encoded data removed]",
            "text/plain": [
              "<Figure size 432x288 with 1 Axes>"
            ]
          },
          "metadata": {},
          "output_type": "display_data"
        }
      ],
      "source": [
        "plt.xticks(iter)\n",
        "plt.plot(tr_loss_pgd,label='Entrenamiento')\n",
        "plt.plot(test_loss_pgd,label='Test')\n",
        "plt.legend()\n",
        "plt.title('Loss en entrenamiento y test sin corrección de pesos (ataque PGD)')\n",
        "plt.ylabel('Magnitud de la loss')\n",
        "plt.xlabel('Épocas')\n",
        "plt.show()"
      ]
    },
    {
      "cell_type": "markdown",
      "metadata": {
        "id": "_2xhvUl_7dc6"
      },
      "source": [
        "#### Entrenamiento con ataque FGSM en test"
      ]
    },
    {
      "cell_type": "code",
      "execution_count": null,
      "metadata": {
        "colab": {
          "base_uri": "https://localhost:8080/"
        },
        "id": "YSf5mKEVkKGb",
        "outputId": "2db3dc8c-0d47-41c0-f04f-2f6f51fbcff8"
      },
      "outputs": [
        {
          "name": "stdout",
          "output_type": "stream",
          "text": [
            "0.132380\t0.340600\t0.675600\n",
            "0.105000\t0.239400\t0.634800\n",
            "0.086960\t0.224200\t0.641200\n",
            "0.071520\t0.250600\t0.644900\n",
            "0.057560\t0.269900\t0.636600\n",
            "0.027840\t0.189400\t0.552900\n",
            "0.010260\t0.186400\t0.539500\n",
            "0.005660\t0.186400\t0.528600\n",
            "0.003680\t0.185600\t0.523500\n",
            "0.003000\t0.184400\t0.520500\n"
          ]
        }
      ],
      "source": [
        "# Optimizador SGD\n",
        "opt = optim.SGD(model.parameters(), lr=1e-1)\n",
        "tr_err_fgsm = []\n",
        "#val_err_fgsm = []\n",
        "test_err_fgsm = []\n",
        "adv_err_fgsm = []\n",
        "train_loss_fgsm = []\n",
        "test_loss_fgsm = []\n",
        "\n",
        "# Entrenamiento sin corrección adversaria\n",
        "# Ataque FGSM\n",
        "for t in range(10):\n",
        "    train_err, train_loss = epoch(train_loader, model, opt)\n",
        "    #val_err , val_loss = epoch(val_loader,model)\n",
        "    test_err, test_loss = epoch(test_loader, model)\n",
        "    adv_err, adv_loss = epoch_adversarial(test_loader, model, fgsm)\n",
        "    if t == 4:\n",
        "        for param_group in opt.param_groups:\n",
        "            param_group[\"lr\"] = 1e-2\n",
        "    tr_err_fgsm.append(train_err) # Guardar para graficar\n",
        "    #val_err_fgsm.append(val_err)\n",
        "    test_err_fgsm.append(test_err)\n",
        "    adv_err_fgsm.append(adv_err)\n",
        "    train_loss_fgsm.append(train_loss)\n",
        "    test_loss_fgsm.append(test_loss)\n",
        "    print(*(\"{:.6f}\".format(i) for i in (train_err, test_err, adv_err)), sep=\"\\t\")\n",
        "torch.save(model.state_dict(), \"model_fgsm_cnn.pt\")"
      ]
    },
    {
      "cell_type": "code",
      "execution_count": null,
      "metadata": {
        "colab": {
          "base_uri": "https://localhost:8080/",
          "height": 297
        },
        "id": "lT8233t0kKZQ",
        "outputId": "42a6acfd-056a-4e2e-dba4-2f0fe56e0479"
      },
      "outputs": [
        {
          "data": {
            "image/png": "[encoded data removed]",
            "text/plain": [
              "<Figure size 432x288 with 1 Axes>"
            ]
          },
          "metadata": {},
          "output_type": "display_data"
        }
      ],
      "source": [
        "iter = range(0,10)\n",
        "plt.xticks(iter)\n",
        "plt.plot(tr_err_fgsm,label='Entrenamiento')\n",
        "#plt.plot(val_err_fgsm,label='Validación')\n",
        "plt.plot(test_err_fgsm,label='Test')\n",
        "plt.plot(adv_err_fgsm,label='Adversario')\n",
        "plt.legend()\n",
        "plt.title('Error en entrenamiento sin corrección de pesos (ataque FGSM)')\n",
        "plt.ylabel('Magnitud del error')\n",
        "plt.xlabel('Épocas')\n",
        "plt.show()"
      ]
    },
    {
      "cell_type": "code",
      "execution_count": null,
      "metadata": {
        "colab": {
          "base_uri": "https://localhost:8080/",
          "height": 297
        },
        "id": "CiMsEUleQReN",
        "outputId": "76fc24a0-0271-4b33-fb05-34a8c1dc4a2a"
      },
      "outputs": [
        {
          "data": {
            "image/png": "[encoded data removed]",
            "text/plain": [
              "<Figure size 432x288 with 1 Axes>"
            ]
          },
          "metadata": {},
          "output_type": "display_data"
        }
      ],
      "source": [
        "iter = range(0,10)\n",
        "plt.xticks(iter)\n",
        "plt.plot(train_loss_fgsm,label='Entrenamiento')\n",
        "plt.plot(test_loss_fgsm,label='Test')\n",
        "plt.legend()\n",
        "plt.title('Loss en entrenamiento y test sin corrección de pesos (ataque FGSM)')\n",
        "plt.ylabel('Magnitud de la loss')\n",
        "plt.xlabel('Épocas')\n",
        "plt.show()"
      ]
    },
    {
      "cell_type": "markdown",
      "metadata": {
        "id": "TGyqhnON7ga9"
      },
      "source": [
        "#### Entrenamiento con ataque FGSM en entrenamiento"
      ]
    },
    {
      "cell_type": "code",
      "execution_count": null,
      "metadata": {
        "colab": {
          "base_uri": "https://localhost:8080/"
        },
        "id": "eHLevWXo0MI4",
        "outputId": "2fc6d525-6a08-4ba0-9430-9be5eaba4851"
      },
      "outputs": [
        {
          "name": "stdout",
          "output_type": "stream",
          "text": [
            "0.666640\t0.518300\t0.696100\n",
            "0.610680\t0.479400\t0.669000\n",
            "0.583560\t0.644000\t0.754000\n",
            "0.562080\t0.507700\t0.665400\n",
            "0.542980\t0.414000\t0.638200\n",
            "0.501480\t0.291500\t0.577300\n",
            "0.493300\t0.283600\t0.579200\n",
            "0.487420\t0.283300\t0.581300\n",
            "0.487100\t0.281500\t0.586500\n",
            "0.481220\t0.281300\t0.579400\n"
          ]
        }
      ],
      "source": [
        "opt = optim.SGD(model.parameters(), lr=1e-1)\n",
        "\n",
        "tr_err_adv_fgsm = []\n",
        "#val_err_adv_fgsm = []\n",
        "test_err_adv_fgsm = []\n",
        "adv_err_adv_fgsm = []\n",
        "tr_loss_adv_fgsm = []\n",
        "test_loss_adv_fgsm = []\n",
        "\n",
        "for t in range(10):\n",
        "    train_err, train_loss = epoch_adversarial(train_loader, model, fgsm, opt)\n",
        "    #val_err , val_loss = epoch(val_loader,model)\n",
        "    test_err, test_loss = epoch(test_loader, model)\n",
        "    adv_err, adv_loss = epoch_adversarial(test_loader, model, fgsm)\n",
        "    if t == 4:\n",
        "        for param_group in opt.param_groups:\n",
        "            param_group[\"lr\"] = 1e-2\n",
        "    tr_err_adv_fgsm.append(train_err) # Guardar para graficar\n",
        "    #val_err_adv_fgsm.append(val_err)\n",
        "    test_err_adv_fgsm.append(test_err)\n",
        "    adv_err_adv_fgsm.append(adv_err)\n",
        "    tr_loss_adv_fgsm.append(train_loss)\n",
        "    test_loss_adv_fgsm.append(test_loss)\n",
        "    print(*(\"{:.6f}\".format(i) for i in (train_err, test_err, adv_err)), sep=\"\\t\")\n",
        "torch.save(model.state_dict(), \"model_adv_train_fgsm.pt\")\n"
      ]
    },
    {
      "cell_type": "code",
      "execution_count": null,
      "metadata": {
        "colab": {
          "base_uri": "https://localhost:8080/",
          "height": 297
        },
        "id": "pdhtZVv0jynO",
        "outputId": "b80a9c9d-eca2-4348-e990-3ad1ac1d14df"
      },
      "outputs": [
        {
          "data": {
            "image/png": "[encoded data removed]",
            "text/plain": [
              "<Figure size 432x288 with 1 Axes>"
            ]
          },
          "metadata": {},
          "output_type": "display_data"
        }
      ],
      "source": [
        "iter = range(0,10)\n",
        "plt.xticks(iter)\n",
        "plt.plot(tr_err_adv_fgsm,label='Entrenamiento')\n",
        "#plt.plot(val_err_adv_fgsm,label='Validación')\n",
        "plt.plot(test_err_adv_fgsm,label='Test')\n",
        "plt.plot(adv_err_adv_fgsm,label='Adversario')\n",
        "plt.legend()\n",
        "plt.title('Error en entrenamiento con corrección de pesos (ataque FGSM)')\n",
        "plt.ylabel('Magnitud del error')\n",
        "plt.xlabel('Épocas')\n",
        "plt.show()"
      ]
    },
    {
      "cell_type": "code",
      "execution_count": null,
      "metadata": {
        "colab": {
          "base_uri": "https://localhost:8080/",
          "height": 297
        },
        "id": "ELeQFRpiVT1b",
        "outputId": "2cb62408-fa3f-43f0-8a77-06466e3c8c2f"
      },
      "outputs": [
        {
          "data": {
            "image/png": "[encoded data removed]",
            "text/plain": [
              "<Figure size 432x288 with 1 Axes>"
            ]
          },
          "metadata": {},
          "output_type": "display_data"
        }
      ],
      "source": [
        "plt.xticks(iter)\n",
        "plt.plot(tr_loss_adv_fgsm,label='Entrenamiento')\n",
        "plt.plot(test_loss_adv_fgsm,label='Test')\n",
        "plt.legend()\n",
        "plt.title('Loss en entrenamiento y test con corrección de pesos (ataque PGD)')\n",
        "plt.ylabel('Magnitud de la loss')\n",
        "plt.xlabel('Épocas')\n",
        "plt.show()"
      ]
    },
    {
      "cell_type": "markdown",
      "metadata": {
        "id": "q2Q_QH5W7kLx"
      },
      "source": [
        "#### Entrenamiento con ataque PGD en entrenamiento"
      ]
    },
    {
      "cell_type": "code",
      "execution_count": null,
      "metadata": {
        "colab": {
          "base_uri": "https://localhost:8080/"
        },
        "id": "iwiHNr3Gw0LN",
        "outputId": "3a27d535-c141-4b2b-ec83-6f82a0bfc59a"
      },
      "outputs": [
        {
          "name": "stdout",
          "output_type": "stream",
          "text": [
            "0.585220\t0.563500\t0.733300\n",
            "0.572040\t0.389000\t0.664500\n",
            "0.558860\t0.854900\t0.863700\n",
            "0.590740\t0.438700\t0.669000\n",
            "0.550980\t0.412000\t0.664600\n",
            "0.506040\t0.295500\t0.606900\n",
            "0.497640\t0.299100\t0.608000\n",
            "0.495520\t0.290600\t0.607900\n",
            "0.491200\t0.286700\t0.609600\n",
            "0.486500\t0.290800\t0.609300\n"
          ]
        }
      ],
      "source": [
        "opt = optim.SGD(model.parameters(), lr=1e-1)\n",
        "\n",
        "tr_err_adv_pgd = []\n",
        "#val_err_adv_pgd = []\n",
        "test_err_adv_pgd = []\n",
        "adv_err_adv_pgd = []\n",
        "tr_loss_adv_pgd = []\n",
        "test_loss_adv_pgd = []\n",
        "\n",
        "for t in range(10):\n",
        "    train_err, train_loss = epoch_adversarial(train_loader, model, pgd_linf, opt)\n",
        "    #val_err , val_loss = epoch(val_loader,model)\n",
        "    test_err, test_loss = epoch(test_loader, model)\n",
        "    adv_err, adv_loss = epoch_adversarial(test_loader, model, pgd_linf)\n",
        "    if t == 4:\n",
        "        for param_group in opt.param_groups:\n",
        "            param_group[\"lr\"] = 1e-2\n",
        "    tr_err_adv_pgd.append(train_err) # Guardar para graficar\n",
        "    #val_err_adv_pgd.append(val_err)\n",
        "    test_err_adv_pgd.append(test_err)\n",
        "    adv_err_adv_pgd.append(adv_err)\n",
        "    tr_loss_adv_pgd.append(train_loss)\n",
        "    test_loss_adv_pgd.append(test_loss)\n",
        "    print(*(\"{:.6f}\".format(i) for i in (train_err, test_err, adv_err)), sep=\"\\t\")\n",
        "torch.save(model.state_dict(), \"model_adv_train_pgd.pt\")\n"
      ]
    },
    {
      "cell_type": "code",
      "execution_count": null,
      "metadata": {
        "colab": {
          "base_uri": "https://localhost:8080/",
          "height": 297
        },
        "id": "LsdkF_65u8U6",
        "outputId": "e7920119-4128-4d2e-9f24-d92f476d73d5"
      },
      "outputs": [
        {
          "data": {
            "image/png": "[encoded data removed]",
            "text/plain": [
              "<Figure size 432x288 with 1 Axes>"
            ]
          },
          "metadata": {},
          "output_type": "display_data"
        }
      ],
      "source": [
        "iter = range(0,10)\n",
        "plt.xticks(iter)\n",
        "plt.plot(tr_err_adv_pgd,label='Entrenamiento')\n",
        "#plt.plot(val_err_adv_pgd,label='Validación')\n",
        "plt.plot(test_err_adv_pgd,label='Test')\n",
        "plt.plot(adv_err_adv_pgd,label='Adversario')\n",
        "plt.legend()\n",
        "plt.title('Error en entrenamiento con corrección de pesos (ataque PGD)')\n",
        "plt.ylabel('Magnitud del error')\n",
        "plt.xlabel('Épocas')\n",
        "plt.show()"
      ]
    },
    {
      "cell_type": "code",
      "execution_count": null,
      "metadata": {
        "colab": {
          "base_uri": "https://localhost:8080/",
          "height": 297
        },
        "id": "OmdCQSPIvKb_",
        "outputId": "f0013fb1-477b-4c45-f5f2-6daf826e2a60"
      },
      "outputs": [
        {
          "data": {
            "image/png": "[encoded data removed]",
            "text/plain": [
              "<Figure size 432x288 with 1 Axes>"
            ]
          },
          "metadata": {},
          "output_type": "display_data"
        }
      ],
      "source": [
        "plt.xticks(iter)\n",
        "plt.plot(tr_loss_adv_pgd,label='Entrenamiento')\n",
        "plt.plot(test_loss_adv_pgd,label='Test')\n",
        "plt.legend()\n",
        "plt.title('Loss en entrenamiento y test con corrección de pesos (ataque PGD)')\n",
        "plt.ylabel('Magnitud de la loss')\n",
        "plt.xlabel('Épocas')\n",
        "plt.show()"
      ]
    },
    {
      "cell_type": "markdown",
      "metadata": {
        "id": "Mgv1vjKTVqDp"
      },
      "source": [
        "### Referencias\n",
        "#### [1] M. Pintor et. al (2019), *ImageNet-Patch: A Dataset for Benchmarking Machine Learning Robustness against Adversarial Patches*,  arxiv [En línea] https://arxiv.org/pdf/2203.04412.pdf"
      ]
    }
  ],
  "metadata": {
    "accelerator": "GPU",
    "colab": {
      "provenance": []
    },
    "gpuClass": "standard",
    "kernelspec": {
      "display_name": "Python 3",
      "name": "python3"
    },
    "language_info": {
      "name": "python"
    },
    "widgets": {
      "application/vnd.jupyter.widget-state+json": {
        "f9ca5fcb4f7a460182fb773b031d9b49": {
          "model_module": "@jupyter-widgets/controls",
          "model_name": "HBoxModel",
          "model_module_version": "1.5.0",
          "state": {
            "_dom_classes": [],
            "_model_module": "@jupyter-widgets/controls",
            "_model_module_version": "1.5.0",
            "_model_name": "HBoxModel",
            "_view_count": null,
            "_view_module": "@jupyter-widgets/controls",
            "_view_module_version": "1.5.0",
            "_view_name": "HBoxView",
            "box_style": "",
            "children": [
              "IPY_MODEL_15f18d2d62014d37a3da999be393c591",
              "IPY_MODEL_0acb7feb961a4951b18257c13365dca9",
              "IPY_MODEL_5bf92b2797c44a8b874e93bbe54e8bef"
            ],
            "layout": "IPY_MODEL_3eb7b295980d4ac79fe4245861dfa5e4"
          }
        },
        "15f18d2d62014d37a3da999be393c591": {
          "model_module": "@jupyter-widgets/controls",
          "model_name": "HTMLModel",
          "model_module_version": "1.5.0",
          "state": {
            "_dom_classes": [],
            "_model_module": "@jupyter-widgets/controls",
            "_model_module_version": "1.5.0",
            "_model_name": "HTMLModel",
            "_view_count": null,
            "_view_module": "@jupyter-widgets/controls",
            "_view_module_version": "1.5.0",
            "_view_name": "HTMLView",
            "description": "",
            "description_tooltip": null,
            "layout": "IPY_MODEL_3bc03c5e3b86424a84f76bd689d8740a",
            "placeholder": "​",
            "style": "IPY_MODEL_a7078f15d8b44e6da4fd709de822c626",
            "value": "100%"
          }
        },
        "0acb7feb961a4951b18257c13365dca9": {
          "model_module": "@jupyter-widgets/controls",
          "model_name": "FloatProgressModel",
          "model_module_version": "1.5.0",
          "state": {
            "_dom_classes": [],
            "_model_module": "@jupyter-widgets/controls",
            "_model_module_version": "1.5.0",
            "_model_name": "FloatProgressModel",
            "_view_count": null,
            "_view_module": "@jupyter-widgets/controls",
            "_view_module_version": "1.5.0",
            "_view_name": "ProgressView",
            "bar_style": "success",
            "description": "",
            "description_tooltip": null,
            "layout": "IPY_MODEL_e5a6d493b6d443d697880da087bf4a66",
            "max": 170498071,
            "min": 0,
            "orientation": "horizontal",
            "style": "IPY_MODEL_55850e7d9f364d75af8c2ca73f77511a",
            "value": 170498071
          }
        },
        "5bf92b2797c44a8b874e93bbe54e8bef": {
          "model_module": "@jupyter-widgets/controls",
          "model_name": "HTMLModel",
          "model_module_version": "1.5.0",
          "state": {
            "_dom_classes": [],
            "_model_module": "@jupyter-widgets/controls",
            "_model_module_version": "1.5.0",
            "_model_name": "HTMLModel",
            "_view_count": null,
            "_view_module": "@jupyter-widgets/controls",
            "_view_module_version": "1.5.0",
            "_view_name": "HTMLView",
            "description": "",
            "description_tooltip": null,
            "layout": "IPY_MODEL_66d78051cf63492b8c76a452485b2028",
            "placeholder": "​",
            "style": "IPY_MODEL_87dca0f2d713467080edc0a3a0d3889c",
            "value": " 170498071/170498071 [00:03&lt;00:00, 52266662.17it/s]"
          }
        },
        "3eb7b295980d4ac79fe4245861dfa5e4": {
          "model_module": "@jupyter-widgets/base",
          "model_name": "LayoutModel",
          "model_module_version": "1.2.0",
          "state": {
            "_model_module": "@jupyter-widgets/base",
            "_model_module_version": "1.2.0",
            "_model_name": "LayoutModel",
            "_view_count": null,
            "_view_module": "@jupyter-widgets/base",
            "_view_module_version": "1.2.0",
            "_view_name": "LayoutView",
            "align_content": null,
            "align_items": null,
            "align_self": null,
            "border": null,
            "bottom": null,
            "display": null,
            "flex": null,
            "flex_flow": null,
            "grid_area": null,
            "grid_auto_columns": null,
            "grid_auto_flow": null,
            "grid_auto_rows": null,
            "grid_column": null,
            "grid_gap": null,
            "grid_row": null,
            "grid_template_areas": null,
            "grid_template_columns": null,
            "grid_template_rows": null,
            "height": null,
            "justify_content": null,
            "justify_items": null,
            "left": null,
            "margin": null,
            "max_height": null,
            "max_width": null,
            "min_height": null,
            "min_width": null,
            "object_fit": null,
            "object_position": null,
            "order": null,
            "overflow": null,
            "overflow_x": null,
            "overflow_y": null,
            "padding": null,
            "right": null,
            "top": null,
            "visibility": null,
            "width": null
          }
        },
        "3bc03c5e3b86424a84f76bd689d8740a": {
          "model_module": "@jupyter-widgets/base",
          "model_name": "LayoutModel",
          "model_module_version": "1.2.0",
          "state": {
            "_model_module": "@jupyter-widgets/base",
            "_model_module_version": "1.2.0",
            "_model_name": "LayoutModel",
            "_view_count": null,
            "_view_module": "@jupyter-widgets/base",
            "_view_module_version": "1.2.0",
            "_view_name": "LayoutView",
            "align_content": null,
            "align_items": null,
            "align_self": null,
            "border": null,
            "bottom": null,
            "display": null,
            "flex": null,
            "flex_flow": null,
            "grid_area": null,
            "grid_auto_columns": null,
            "grid_auto_flow": null,
            "grid_auto_rows": null,
            "grid_column": null,
            "grid_gap": null,
            "grid_row": null,
            "grid_template_areas": null,
            "grid_template_columns": null,
            "grid_template_rows": null,
            "height": null,
            "justify_content": null,
            "justify_items": null,
            "left": null,
            "margin": null,
            "max_height": null,
            "max_width": null,
            "min_height": null,
            "min_width": null,
            "object_fit": null,
            "object_position": null,
            "order": null,
            "overflow": null,
            "overflow_x": null,
            "overflow_y": null,
            "padding": null,
            "right": null,
            "top": null,
            "visibility": null,
            "width": null
          }
        },
        "a7078f15d8b44e6da4fd709de822c626": {
          "model_module": "@jupyter-widgets/controls",
          "model_name": "DescriptionStyleModel",
          "model_module_version": "1.5.0",
          "state": {
            "_model_module": "@jupyter-widgets/controls",
            "_model_module_version": "1.5.0",
            "_model_name": "DescriptionStyleModel",
            "_view_count": null,
            "_view_module": "@jupyter-widgets/base",
            "_view_module_version": "1.2.0",
            "_view_name": "StyleView",
            "description_width": ""
          }
        },
        "e5a6d493b6d443d697880da087bf4a66": {
          "model_module": "@jupyter-widgets/base",
          "model_name": "LayoutModel",
          "model_module_version": "1.2.0",
          "state": {
            "_model_module": "@jupyter-widgets/base",
            "_model_module_version": "1.2.0",
            "_model_name": "LayoutModel",
            "_view_count": null,
            "_view_module": "@jupyter-widgets/base",
            "_view_module_version": "1.2.0",
            "_view_name": "LayoutView",
            "align_content": null,
            "align_items": null,
            "align_self": null,
            "border": null,
            "bottom": null,
            "display": null,
            "flex": null,
            "flex_flow": null,
            "grid_area": null,
            "grid_auto_columns": null,
            "grid_auto_flow": null,
            "grid_auto_rows": null,
            "grid_column": null,
            "grid_gap": null,
            "grid_row": null,
            "grid_template_areas": null,
            "grid_template_columns": null,
            "grid_template_rows": null,
            "height": null,
            "justify_content": null,
            "justify_items": null,
            "left": null,
            "margin": null,
            "max_height": null,
            "max_width": null,
            "min_height": null,
            "min_width": null,
            "object_fit": null,
            "object_position": null,
            "order": null,
            "overflow": null,
            "overflow_x": null,
            "overflow_y": null,
            "padding": null,
            "right": null,
            "top": null,
            "visibility": null,
            "width": null
          }
        },
        "55850e7d9f364d75af8c2ca73f77511a": {
          "model_module": "@jupyter-widgets/controls",
          "model_name": "ProgressStyleModel",
          "model_module_version": "1.5.0",
          "state": {
            "_model_module": "@jupyter-widgets/controls",
            "_model_module_version": "1.5.0",
            "_model_name": "ProgressStyleModel",
            "_view_count": null,
            "_view_module": "@jupyter-widgets/base",
            "_view_module_version": "1.2.0",
            "_view_name": "StyleView",
            "bar_color": null,
            "description_width": ""
          }
        },
        "66d78051cf63492b8c76a452485b2028": {
          "model_module": "@jupyter-widgets/base",
          "model_name": "LayoutModel",
          "model_module_version": "1.2.0",
          "state": {
            "_model_module": "@jupyter-widgets/base",
            "_model_module_version": "1.2.0",
            "_model_name": "LayoutModel",
            "_view_count": null,
            "_view_module": "@jupyter-widgets/base",
            "_view_module_version": "1.2.0",
            "_view_name": "LayoutView",
            "align_content": null,
            "align_items": null,
            "align_self": null,
            "border": null,
            "bottom": null,
            "display": null,
            "flex": null,
            "flex_flow": null,
            "grid_area": null,
            "grid_auto_columns": null,
            "grid_auto_flow": null,
            "grid_auto_rows": null,
            "grid_column": null,
            "grid_gap": null,
            "grid_row": null,
            "grid_template_areas": null,
            "grid_template_columns": null,
            "grid_template_rows": null,
            "height": null,
            "justify_content": null,
            "justify_items": null,
            "left": null,
            "margin": null,
            "max_height": null,
            "max_width": null,
            "min_height": null,
            "min_width": null,
            "object_fit": null,
            "object_position": null,
            "order": null,
            "overflow": null,
            "overflow_x": null,
            "overflow_y": null,
            "padding": null,
            "right": null,
            "top": null,
            "visibility": null,
            "width": null
          }
        },
        "87dca0f2d713467080edc0a3a0d3889c": {
          "model_module": "@jupyter-widgets/controls",
          "model_name": "DescriptionStyleModel",
          "model_module_version": "1.5.0",
          "state": {
            "_model_module": "@jupyter-widgets/controls",
            "_model_module_version": "1.5.0",
            "_model_name": "DescriptionStyleModel",
            "_view_count": null,
            "_view_module": "@jupyter-widgets/base",
            "_view_module_version": "1.2.0",
            "_view_name": "StyleView",
            "description_width": ""
          }
        }
      }
    }
  },
  "nbformat": 4,
  "nbformat_minor": 0
}